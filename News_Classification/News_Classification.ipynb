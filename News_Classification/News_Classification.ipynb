{
  "nbformat": 4,
  "nbformat_minor": 0,
  "metadata": {
    "colab": {
      "name": "News_Classification.ipynb",
      "provenance": []
    },
    "kernelspec": {
      "name": "python3",
      "display_name": "Python 3"
    }
  },
  "cells": [
    {
      "cell_type": "code",
      "metadata": {
        "id": "v2dY5aEei5Ri",
        "colab_type": "code",
        "colab": {
          "base_uri": "https://localhost:8080/",
          "height": 783
        },
        "outputId": "ce74c337-62f8-4de2-f0a9-5b979bf182c9"
      },
      "source": [
        "!pip install -U spacy\n",
        "!python -m spacy download en_core_web_md"
      ],
      "execution_count": 1,
      "outputs": [
        {
          "output_type": "stream",
          "text": [
            "Requirement already up-to-date: spacy in /usr/local/lib/python3.6/dist-packages (2.3.2)\n",
            "Requirement already satisfied, skipping upgrade: blis<0.5.0,>=0.4.0 in /usr/local/lib/python3.6/dist-packages (from spacy) (0.4.1)\n",
            "Requirement already satisfied, skipping upgrade: wasabi<1.1.0,>=0.4.0 in /usr/local/lib/python3.6/dist-packages (from spacy) (0.7.0)\n",
            "Requirement already satisfied, skipping upgrade: tqdm<5.0.0,>=4.38.0 in /usr/local/lib/python3.6/dist-packages (from spacy) (4.41.1)\n",
            "Requirement already satisfied, skipping upgrade: thinc==7.4.1 in /usr/local/lib/python3.6/dist-packages (from spacy) (7.4.1)\n",
            "Requirement already satisfied, skipping upgrade: setuptools in /usr/local/lib/python3.6/dist-packages (from spacy) (49.1.0)\n",
            "Requirement already satisfied, skipping upgrade: numpy>=1.15.0 in /usr/local/lib/python3.6/dist-packages (from spacy) (1.18.5)\n",
            "Requirement already satisfied, skipping upgrade: murmurhash<1.1.0,>=0.28.0 in /usr/local/lib/python3.6/dist-packages (from spacy) (1.0.2)\n",
            "Requirement already satisfied, skipping upgrade: preshed<3.1.0,>=3.0.2 in /usr/local/lib/python3.6/dist-packages (from spacy) (3.0.2)\n",
            "Requirement already satisfied, skipping upgrade: requests<3.0.0,>=2.13.0 in /usr/local/lib/python3.6/dist-packages (from spacy) (2.23.0)\n",
            "Requirement already satisfied, skipping upgrade: cymem<2.1.0,>=2.0.2 in /usr/local/lib/python3.6/dist-packages (from spacy) (2.0.3)\n",
            "Requirement already satisfied, skipping upgrade: catalogue<1.1.0,>=0.0.7 in /usr/local/lib/python3.6/dist-packages (from spacy) (1.0.0)\n",
            "Requirement already satisfied, skipping upgrade: srsly<1.1.0,>=1.0.2 in /usr/local/lib/python3.6/dist-packages (from spacy) (1.0.2)\n",
            "Requirement already satisfied, skipping upgrade: plac<1.2.0,>=0.9.6 in /usr/local/lib/python3.6/dist-packages (from spacy) (1.1.3)\n",
            "Requirement already satisfied, skipping upgrade: idna<3,>=2.5 in /usr/local/lib/python3.6/dist-packages (from requests<3.0.0,>=2.13.0->spacy) (2.10)\n",
            "Requirement already satisfied, skipping upgrade: urllib3!=1.25.0,!=1.25.1,<1.26,>=1.21.1 in /usr/local/lib/python3.6/dist-packages (from requests<3.0.0,>=2.13.0->spacy) (1.24.3)\n",
            "Requirement already satisfied, skipping upgrade: chardet<4,>=3.0.2 in /usr/local/lib/python3.6/dist-packages (from requests<3.0.0,>=2.13.0->spacy) (3.0.4)\n",
            "Requirement already satisfied, skipping upgrade: certifi>=2017.4.17 in /usr/local/lib/python3.6/dist-packages (from requests<3.0.0,>=2.13.0->spacy) (2020.6.20)\n",
            "Requirement already satisfied, skipping upgrade: importlib-metadata>=0.20; python_version < \"3.8\" in /usr/local/lib/python3.6/dist-packages (from catalogue<1.1.0,>=0.0.7->spacy) (1.7.0)\n",
            "Requirement already satisfied, skipping upgrade: zipp>=0.5 in /usr/local/lib/python3.6/dist-packages (from importlib-metadata>=0.20; python_version < \"3.8\"->catalogue<1.1.0,>=0.0.7->spacy) (3.1.0)\n",
            "Requirement already satisfied: en_core_web_md==2.3.1 from https://github.com/explosion/spacy-models/releases/download/en_core_web_md-2.3.1/en_core_web_md-2.3.1.tar.gz#egg=en_core_web_md==2.3.1 in /usr/local/lib/python3.6/dist-packages (2.3.1)\n",
            "Requirement already satisfied: spacy<2.4.0,>=2.3.0 in /usr/local/lib/python3.6/dist-packages (from en_core_web_md==2.3.1) (2.3.2)\n",
            "Requirement already satisfied: tqdm<5.0.0,>=4.38.0 in /usr/local/lib/python3.6/dist-packages (from spacy<2.4.0,>=2.3.0->en_core_web_md==2.3.1) (4.41.1)\n",
            "Requirement already satisfied: cymem<2.1.0,>=2.0.2 in /usr/local/lib/python3.6/dist-packages (from spacy<2.4.0,>=2.3.0->en_core_web_md==2.3.1) (2.0.3)\n",
            "Requirement already satisfied: numpy>=1.15.0 in /usr/local/lib/python3.6/dist-packages (from spacy<2.4.0,>=2.3.0->en_core_web_md==2.3.1) (1.18.5)\n",
            "Requirement already satisfied: wasabi<1.1.0,>=0.4.0 in /usr/local/lib/python3.6/dist-packages (from spacy<2.4.0,>=2.3.0->en_core_web_md==2.3.1) (0.7.0)\n",
            "Requirement already satisfied: srsly<1.1.0,>=1.0.2 in /usr/local/lib/python3.6/dist-packages (from spacy<2.4.0,>=2.3.0->en_core_web_md==2.3.1) (1.0.2)\n",
            "Requirement already satisfied: plac<1.2.0,>=0.9.6 in /usr/local/lib/python3.6/dist-packages (from spacy<2.4.0,>=2.3.0->en_core_web_md==2.3.1) (1.1.3)\n",
            "Requirement already satisfied: blis<0.5.0,>=0.4.0 in /usr/local/lib/python3.6/dist-packages (from spacy<2.4.0,>=2.3.0->en_core_web_md==2.3.1) (0.4.1)\n",
            "Requirement already satisfied: requests<3.0.0,>=2.13.0 in /usr/local/lib/python3.6/dist-packages (from spacy<2.4.0,>=2.3.0->en_core_web_md==2.3.1) (2.23.0)\n",
            "Requirement already satisfied: preshed<3.1.0,>=3.0.2 in /usr/local/lib/python3.6/dist-packages (from spacy<2.4.0,>=2.3.0->en_core_web_md==2.3.1) (3.0.2)\n",
            "Requirement already satisfied: thinc==7.4.1 in /usr/local/lib/python3.6/dist-packages (from spacy<2.4.0,>=2.3.0->en_core_web_md==2.3.1) (7.4.1)\n",
            "Requirement already satisfied: setuptools in /usr/local/lib/python3.6/dist-packages (from spacy<2.4.0,>=2.3.0->en_core_web_md==2.3.1) (49.1.0)\n",
            "Requirement already satisfied: catalogue<1.1.0,>=0.0.7 in /usr/local/lib/python3.6/dist-packages (from spacy<2.4.0,>=2.3.0->en_core_web_md==2.3.1) (1.0.0)\n",
            "Requirement already satisfied: murmurhash<1.1.0,>=0.28.0 in /usr/local/lib/python3.6/dist-packages (from spacy<2.4.0,>=2.3.0->en_core_web_md==2.3.1) (1.0.2)\n",
            "Requirement already satisfied: certifi>=2017.4.17 in /usr/local/lib/python3.6/dist-packages (from requests<3.0.0,>=2.13.0->spacy<2.4.0,>=2.3.0->en_core_web_md==2.3.1) (2020.6.20)\n",
            "Requirement already satisfied: idna<3,>=2.5 in /usr/local/lib/python3.6/dist-packages (from requests<3.0.0,>=2.13.0->spacy<2.4.0,>=2.3.0->en_core_web_md==2.3.1) (2.10)\n",
            "Requirement already satisfied: urllib3!=1.25.0,!=1.25.1,<1.26,>=1.21.1 in /usr/local/lib/python3.6/dist-packages (from requests<3.0.0,>=2.13.0->spacy<2.4.0,>=2.3.0->en_core_web_md==2.3.1) (1.24.3)\n",
            "Requirement already satisfied: chardet<4,>=3.0.2 in /usr/local/lib/python3.6/dist-packages (from requests<3.0.0,>=2.13.0->spacy<2.4.0,>=2.3.0->en_core_web_md==2.3.1) (3.0.4)\n",
            "Requirement already satisfied: importlib-metadata>=0.20; python_version < \"3.8\" in /usr/local/lib/python3.6/dist-packages (from catalogue<1.1.0,>=0.0.7->spacy<2.4.0,>=2.3.0->en_core_web_md==2.3.1) (1.7.0)\n",
            "Requirement already satisfied: zipp>=0.5 in /usr/local/lib/python3.6/dist-packages (from importlib-metadata>=0.20; python_version < \"3.8\"->catalogue<1.1.0,>=0.0.7->spacy<2.4.0,>=2.3.0->en_core_web_md==2.3.1) (3.1.0)\n",
            "\u001b[38;5;2m✔ Download and installation successful\u001b[0m\n",
            "You can now load the model via spacy.load('en_core_web_md')\n"
          ],
          "name": "stdout"
        }
      ]
    },
    {
      "cell_type": "code",
      "metadata": {
        "id": "cAs2Dbe694U5",
        "colab_type": "code",
        "colab": {
          "base_uri": "https://localhost:8080/",
          "height": 107
        },
        "outputId": "a6ca7ab1-88af-49d8-86a1-bfc6fc9d994f"
      },
      "source": [
        "# Importing Required Libraries\n",
        "\n",
        "import pandas as pd\n",
        "import numpy as np\n",
        "from matplotlib import pyplot as plt\n",
        "from nltk.stem import PorterStemmer \n",
        "from nltk.tokenize import word_tokenize \n",
        "import seaborn as sns\n",
        "from sklearn.svm import SVC\n",
        "from sklearn.feature_extraction.text import TfidfVectorizer\n",
        "from sklearn.feature_selection import chi2\n",
        "from sklearn.manifold import TSNE\n",
        "from sklearn.linear_model import LogisticRegression\n",
        "from sklearn.ensemble import RandomForestClassifier\n",
        "from sklearn.naive_bayes import MultinomialNB\n",
        "from sklearn.model_selection import cross_val_score\n",
        "from sklearn.model_selection import train_test_split\n",
        "from sklearn.metrics import confusion_matrix\n",
        "\n",
        "import spacy\n",
        "import en_core_web_md\n",
        "nlp = en_core_web_md.load(parse=True, tag=True, entity=True)\n",
        "\n",
        "import nltk\n",
        "nltk.download('stopwords')\n",
        "stopwords = nltk.corpus.stopwords.words('english')\n",
        "\n",
        "%matplotlib inline"
      ],
      "execution_count": 2,
      "outputs": [
        {
          "output_type": "stream",
          "text": [
            "/usr/local/lib/python3.6/dist-packages/statsmodels/tools/_testing.py:19: FutureWarning: pandas.util.testing is deprecated. Use the functions in the public API at pandas.testing instead.\n",
            "  import pandas.util.testing as tm\n"
          ],
          "name": "stderr"
        },
        {
          "output_type": "stream",
          "text": [
            "[nltk_data] Downloading package stopwords to /root/nltk_data...\n",
            "[nltk_data]   Package stopwords is already up-to-date!\n"
          ],
          "name": "stdout"
        }
      ]
    },
    {
      "cell_type": "code",
      "metadata": {
        "id": "EOO4WrGX-SXE",
        "colab_type": "code",
        "colab": {}
      },
      "source": [
        "# Importing Dataset\n",
        "train_set_link = 'https://raw.githubusercontent.com/HardiRathod/news-topic-classification/master/BBC%20News%20Train.csv'\n",
        "test_set_link = 'https://raw.githubusercontent.com/HardiRathod/news-topic-classification/master/BBC%20News%20Test.csv'\n",
        "df_train = pd.read_csv(train_set_link)\n",
        "df_test = pd.read_csv(test_set_link)"
      ],
      "execution_count": 3,
      "outputs": []
    },
    {
      "cell_type": "code",
      "metadata": {
        "id": "m7ini2DX-VWN",
        "colab_type": "code",
        "colab": {
          "base_uri": "https://localhost:8080/",
          "height": 202
        },
        "outputId": "ffc10497-3723-479b-fd10-126717882442"
      },
      "source": [
        "# Encoding Categories\n",
        "df_train['Category_id'] = df_train['Category'].factorize()[0]\n",
        "colslist = ['Index', 'News', 'Type', 'Category_id']\n",
        "df_train.columns = colslist\n",
        "\n",
        "df_train.sample(5, random_state=0)"
      ],
      "execution_count": 4,
      "outputs": [
        {
          "output_type": "execute_result",
          "data": {
            "text/html": [
              "<div>\n",
              "<style scoped>\n",
              "    .dataframe tbody tr th:only-of-type {\n",
              "        vertical-align: middle;\n",
              "    }\n",
              "\n",
              "    .dataframe tbody tr th {\n",
              "        vertical-align: top;\n",
              "    }\n",
              "\n",
              "    .dataframe thead th {\n",
              "        text-align: right;\n",
              "    }\n",
              "</style>\n",
              "<table border=\"1\" class=\"dataframe\">\n",
              "  <thead>\n",
              "    <tr style=\"text-align: right;\">\n",
              "      <th></th>\n",
              "      <th>Index</th>\n",
              "      <th>News</th>\n",
              "      <th>Type</th>\n",
              "      <th>Category_id</th>\n",
              "    </tr>\n",
              "  </thead>\n",
              "  <tbody>\n",
              "    <tr>\n",
              "      <th>9</th>\n",
              "      <td>1866</td>\n",
              "      <td>fockers fuel festive film chart comedy meet th...</td>\n",
              "      <td>entertainment</td>\n",
              "      <td>4</td>\n",
              "    </tr>\n",
              "    <tr>\n",
              "      <th>354</th>\n",
              "      <td>1349</td>\n",
              "      <td>tory candidate quits over remark a conservativ...</td>\n",
              "      <td>politics</td>\n",
              "      <td>2</td>\n",
              "    </tr>\n",
              "    <tr>\n",
              "      <th>1227</th>\n",
              "      <td>1572</td>\n",
              "      <td>bath faced with tindall ultimatum mike tindall...</td>\n",
              "      <td>sport</td>\n",
              "      <td>3</td>\n",
              "    </tr>\n",
              "    <tr>\n",
              "      <th>907</th>\n",
              "      <td>1155</td>\n",
              "      <td>chancellor rallies labour voters gordon brown ...</td>\n",
              "      <td>politics</td>\n",
              "      <td>2</td>\n",
              "    </tr>\n",
              "    <tr>\n",
              "      <th>575</th>\n",
              "      <td>307</td>\n",
              "      <td>young debut cut short by ginepri fifteen-year-...</td>\n",
              "      <td>sport</td>\n",
              "      <td>3</td>\n",
              "    </tr>\n",
              "  </tbody>\n",
              "</table>\n",
              "</div>"
            ],
            "text/plain": [
              "      Index  ... Category_id\n",
              "9      1866  ...           4\n",
              "354    1349  ...           2\n",
              "1227   1572  ...           3\n",
              "907    1155  ...           2\n",
              "575     307  ...           3\n",
              "\n",
              "[5 rows x 4 columns]"
            ]
          },
          "metadata": {
            "tags": []
          },
          "execution_count": 4
        }
      ]
    },
    {
      "cell_type": "code",
      "metadata": {
        "id": "Cd-uQ5FFEwP0",
        "colab_type": "code",
        "colab": {
          "base_uri": "https://localhost:8080/",
          "height": 359
        },
        "outputId": "2b271875-111f-4df4-fa4a-f750cc2a8e6f"
      },
      "source": [
        "# Visualizing the frequency of different types of articles\n",
        "df_train.groupby('Type').Index.count().plot.bar(ylim=0)"
      ],
      "execution_count": 5,
      "outputs": [
        {
          "output_type": "execute_result",
          "data": {
            "text/plain": [
              "<matplotlib.axes._subplots.AxesSubplot at 0x7f7bdbe33400>"
            ]
          },
          "metadata": {
            "tags": []
          },
          "execution_count": 5
        },
        {
          "output_type": "display_data",
          "data": {
            "image/png": "[encoded data removed]",
            "text/plain": [
              "<Figure size 432x288 with 1 Axes>"
            ]
          },
          "metadata": {
            "tags": [],
            "needs_background": "light"
          }
        }
      ]
    },
    {
      "cell_type": "code",
      "metadata": {
        "id": "HlO2SlIdGAAe",
        "colab_type": "code",
        "colab": {}
      },
      "source": [
        "# Removing Stopwords\n",
        "df_train['News'] = df_train['News'].apply(lambda x: ' '.join([word for word in x.split() if word not in (stopwords)]))"
      ],
      "execution_count": 6,
      "outputs": []
    },
    {
      "cell_type": "code",
      "metadata": {
        "id": "wixwVbjQGLfS",
        "colab_type": "code",
        "colab": {}
      },
      "source": [
        "# Stemming the words\n",
        "ps = PorterStemmer()\n",
        "df_train['News'] = df_train['News'].apply(lambda x: ' '.join([ps.stem(word) for word in x.split()]))\n",
        "# Lemmatizing the words\n",
        "df_train['News'] = df_train['News'].apply(lambda x: ' '.join([x.lemma_ if x.lemma_ != '-PRON-' else x.text for x in nlp(x)]))"
      ],
      "execution_count": 7,
      "outputs": []
    },
    {
      "cell_type": "code",
      "metadata": {
        "id": "hpjVihLlGUPQ",
        "colab_type": "code",
        "colab": {}
      },
      "source": [
        "# Converting text to lowercase\n",
        "df_train['News'] = df_train['News'].apply(lambda x: ' '.join(x.lower() for x in x.split()))\n",
        "# Removing punctuations\n",
        "df_train['News'] = df_train['News'].str.replace('[^\\w\\s]','')\n",
        "\n",
        "# Removing words which have frequency of occurence lower than 3\n",
        "freq = pd.Series(' '.join(df_train['News']).split()).value_counts()\n",
        "freq = freq[freq <= 3]\n",
        "freq = list(freq.index.values)\n",
        "df_train['News'] = df_train['News'].apply(lambda x: ' '.join([word for word in x.split() if word not in (freq)]))\n",
        "df_train = df_train[['Index', 'Type', 'Category_id', 'News']]"
      ],
      "execution_count": 8,
      "outputs": []
    },
    {
      "cell_type": "code",
      "metadata": {
        "id": "U_Kri9e4G7LP",
        "colab_type": "code",
        "colab": {}
      },
      "source": [
        "# Applying TF-IDF Vectorization to the data\n",
        "tfidf = TfidfVectorizer(sublinear_tf=True, min_df=5, norm='l2', encoding='latin-1', ngram_range=(1, 2))\n",
        "features = tfidf.fit_transform(df_train.News).toarray()\n",
        "labels = df_train.Category_id"
      ],
      "execution_count": 9,
      "outputs": []
    },
    {
      "cell_type": "code",
      "metadata": {
        "id": "vL6CK5X5HVoX",
        "colab_type": "code",
        "colab": {}
      },
      "source": [
        "df_train.columns = ['Index', 'Type', 'Category_id', 'News']\n",
        "\n",
        "# Generating Category to ID dictionary\n",
        "category_id_df = df_train[['Type', 'Category_id']].drop_duplicates().sort_values('Category_id')\n",
        "category_to_id = dict(category_id_df.values)\n",
        "# Generating ID to Category dictionary\n",
        "id_to_category = dict(category_id_df[['Category_id', 'Type']].values)"
      ],
      "execution_count": 10,
      "outputs": []
    },
    {
      "cell_type": "code",
      "metadata": {
        "id": "thzIumsjHsax",
        "colab_type": "code",
        "colab": {
          "base_uri": "https://localhost:8080/",
          "height": 797
        },
        "outputId": "d51f0e59-e4da-44d6-bcd9-9e8230253dd4"
      },
      "source": [
        "# Finding the most correlated terms within each category using chi2 analysis\n",
        "N = 3\n",
        "for Type, Category_id in sorted(category_to_id.items()):\n",
        "    # Extracting the features\n",
        "    features_chi2 = chi2(features, labels == Category_id)\n",
        "    # Sorting the indices of each feature\n",
        "    indices = np.argsort(features_chi2[0])\n",
        "    # Converts indices to feature names\n",
        "    feature_names = np.array(tfidf.get_feature_names())[indices]\n",
        "    # List of single word features i.e. Unigrams\n",
        "    unigrams = [v for v in feature_names if len(v.split(' ')) == 1]\n",
        "    # List of double word features i.e. Bigrams\n",
        "    bigrams = [v for v in feature_names if len(v.split(' ')) == 2]\n",
        "\n",
        "    print(\"# '{}':\".format(Type))\n",
        "    print(\"  . Most correlated unigrams:\\n       . {}\".format('\\n       . '.join(unigrams[-N:])))\n",
        "    print(\"  . Most correlated bigrams:\\n       . {}\".format('\\n       . '.join(bigrams[-N:])))"
      ],
      "execution_count": 11,
      "outputs": [
        {
          "output_type": "stream",
          "text": [
            "# 'business':\n",
            "  . Most correlated unigrams:\n",
            "       . profit\n",
            "       . growth\n",
            "       . bank\n",
            "  . Most correlated bigrams:\n",
            "       . stock market\n",
            "       . interest rate\n",
            "       . analyst say\n",
            "# 'entertainment':\n",
            "  . Most correlated unigrams:\n",
            "       . actor\n",
            "       . star\n",
            "       . film\n",
            "  . Most correlated bigrams:\n",
            "       . good film\n",
            "       . lo angel\n",
            "       . box offic\n",
            "# 'politics':\n",
            "  . Most correlated unigrams:\n",
            "       . blair\n",
            "       . tori\n",
            "       . labour\n",
            "  . Most correlated bigrams:\n",
            "       . lib dem\n",
            "       . toni blair\n",
            "       . mr blair\n",
            "# 'sport':\n",
            "  . Most correlated unigrams:\n",
            "       . cup\n",
            "       . match\n",
            "       . champion\n",
            "  . Most correlated bigrams:\n",
            "       . grand slam\n",
            "       . australian open\n",
            "       . six nation\n",
            "# 'tech':\n",
            "  . Most correlated unigrams:\n",
            "       . softwar\n",
            "       . comput\n",
            "       . user\n",
            "  . Most correlated bigrams:\n",
            "       . anti viru\n",
            "       . let peopl\n",
            "       . mobil phone\n"
          ],
          "name": "stdout"
        }
      ]
    },
    {
      "cell_type": "code",
      "metadata": {
        "id": "F3lPYGV8H3Bn",
        "colab_type": "code",
        "colab": {
          "base_uri": "https://localhost:8080/",
          "height": 301
        },
        "outputId": "26918596-7215-4def-8184-01c0ffcb15ab"
      },
      "source": [
        "# Sampling a random subset of our dataset because t-SNE is computationally expensive\n",
        "SAMPLE_SIZE = int(len(features) * 0.5)\n",
        "np.random.seed(0)\n",
        "indices = np.random.choice(range(len(features)), size=SAMPLE_SIZE, replace=False)\n",
        "\n",
        "# Projecting in two dimensions\n",
        "projected_features = TSNE(n_components=2, random_state=0).fit_transform(features[indices])\n",
        "colors = ['pink', 'green', 'midnightblue', 'orange', 'darkgrey']\n",
        "\n",
        "# Plotting the data\n",
        "for Category, Category_id in sorted(category_to_id.items()):\n",
        "    points = projected_features[(labels[indices] == Category_id).values]\n",
        "    plt.scatter(points[:, 0], points[:, 1], s=30, c=colors[Category_id], label=Category)\n",
        "\n",
        "plt.title(\"tf-idf feature vector for each article, projected on 2 dimensions.\",\n",
        "          fontdict=dict(fontsize=15))\n",
        "plt.legend()"
      ],
      "execution_count": 12,
      "outputs": [
        {
          "output_type": "execute_result",
          "data": {
            "text/plain": [
              "<matplotlib.legend.Legend at 0x7f7bd4524dd8>"
            ]
          },
          "metadata": {
            "tags": []
          },
          "execution_count": 12
        },
        {
          "output_type": "display_data",
          "data": {
            "image/png": "[encoded data removed]",
            "text/plain": [
              "<Figure size 432x288 with 1 Axes>"
            ]
          },
          "metadata": {
            "tags": [],
            "needs_background": "light"
          }
        }
      ]
    },
    {
      "cell_type": "code",
      "metadata": {
        "id": "NambWWQtIYI5",
        "colab_type": "code",
        "colab": {}
      },
      "source": [
        "# Considering 4 different models Random Forest, Naive Bayes, Support Vector Classifier and Logistic Regression\n",
        "models = [\n",
        "    RandomForestClassifier(n_estimators=200, max_depth=3, random_state=0),\n",
        "    MultinomialNB(),\n",
        "    LogisticRegression(random_state=0),\n",
        "    SVC(C=0.1, kernel='linear')\n",
        "]\n",
        "# Applying Cross Validation\n",
        "CV = 5\n",
        "cv_df = pd.DataFrame(index=range(CV * len(models)))\n",
        "entries = []\n",
        "# Iterating over different models considering accuracy as metric\n",
        "for model in models:\n",
        "    model_name = model.__class__.__name__\n",
        "    accuracies = cross_val_score(model, features, labels, scoring='accuracy', cv=CV)\n",
        "    for fold_idx, accuracy in enumerate(accuracies):\n",
        "        entries.append((model_name, fold_idx, accuracy))\n",
        "cv_df = pd.DataFrame(entries, columns=['model_name', 'fold_idx', 'accuracy'])"
      ],
      "execution_count": 13,
      "outputs": []
    },
    {
      "cell_type": "code",
      "metadata": {
        "id": "CaSr4zL-IgaY",
        "colab_type": "code",
        "colab": {
          "base_uri": "https://localhost:8080/",
          "height": 297
        },
        "outputId": "5988bb4b-3c78-4427-eea6-469175191a61"
      },
      "source": [
        "# Visualising the accuracy of different models\n",
        "sns.boxplot(x='model_name', y='accuracy', data=cv_df)\n",
        "sns.stripplot(x='model_name', y='accuracy', data=cv_df,size=8, jitter=True, edgecolor=\"gray\", linewidth=2)"
      ],
      "execution_count": 14,
      "outputs": [
        {
          "output_type": "execute_result",
          "data": {
            "text/plain": [
              "<matplotlib.axes._subplots.AxesSubplot at 0x7f7bdbdd0a90>"
            ]
          },
          "metadata": {
            "tags": []
          },
          "execution_count": 14
        },
        {
          "output_type": "display_data",
          "data": {
            "image/png": "[encoded data removed]",
            "text/plain": [
              "<Figure size 432x288 with 1 Axes>"
            ]
          },
          "metadata": {
            "tags": [],
            "needs_background": "light"
          }
        }
      ]
    },
    {
      "cell_type": "code",
      "metadata": {
        "id": "H0O80HMcKErR",
        "colab_type": "code",
        "colab": {
          "base_uri": "https://localhost:8080/",
          "height": 121
        },
        "outputId": "eaa3df55-a18a-4053-a45e-65007d5f0e7f"
      },
      "source": [
        "# Analysing the accuracy of different models\n",
        "cv_df.groupby('model_name').accuracy.mean()"
      ],
      "execution_count": 15,
      "outputs": [
        {
          "output_type": "execute_result",
          "data": {
            "text/plain": [
              "model_name\n",
              "LogisticRegression        0.975839\n",
              "MultinomialNB             0.973154\n",
              "RandomForestClassifier    0.860403\n",
              "SVC                       0.928188\n",
              "Name: accuracy, dtype: float64"
            ]
          },
          "metadata": {
            "tags": []
          },
          "execution_count": 15
        }
      ]
    },
    {
      "cell_type": "code",
      "metadata": {
        "id": "QNitzmI0JaoP",
        "colab_type": "code",
        "colab": {}
      },
      "source": [
        "# Applying the best model i.e. Logistic Regression\n",
        "model = LogisticRegression(random_state=0)\n",
        "# Splitting the data into training and validation data\n",
        "X_train, X_valid, y_train, y_valid, indices_train, indices_valid = train_test_split(features, labels, df_train.index, test_size=0.33, random_state=0)\n",
        "model.fit(X_train, y_train)\n",
        "y_pred_proba = model.predict_proba(X_valid)\n",
        "y_pred = model.predict(X_valid)"
      ],
      "execution_count": 16,
      "outputs": []
    },
    {
      "cell_type": "code",
      "metadata": {
        "id": "_R1Rpm1-KNIh",
        "colab_type": "code",
        "colab": {
          "base_uri": "https://localhost:8080/",
          "height": 297
        },
        "outputId": "6e0cb526-81cd-486b-a1b7-54d48b869ea7"
      },
      "source": [
        "# Creating the confusion matrix\n",
        "conf_mat = confusion_matrix(y_valid, y_pred)\n",
        "sns.heatmap(conf_mat, annot=True, fmt='d', xticklabels=category_id_df.Type.values, yticklabels=category_id_df.Type.values)\n",
        "plt.ylabel('Actual')\n",
        "plt.xlabel('Predicted')"
      ],
      "execution_count": 17,
      "outputs": [
        {
          "output_type": "execute_result",
          "data": {
            "text/plain": [
              "Text(0.5, 15.0, 'Predicted')"
            ]
          },
          "metadata": {
            "tags": []
          },
          "execution_count": 17
        },
        {
          "output_type": "display_data",
          "data": {
            "image/png": "[encoded data removed]",
            "text/plain": [
              "<Figure size 432x288 with 2 Axes>"
            ]
          },
          "metadata": {
            "tags": [],
            "needs_background": "light"
          }
        }
      ]
    },
    {
      "cell_type": "code",
      "metadata": {
        "id": "WADNeFFcKYrG",
        "colab_type": "code",
        "colab": {
          "base_uri": "https://localhost:8080/",
          "height": 1000
        },
        "outputId": "7a50ef8e-cc3f-43ec-f824-5b8a18c692e6"
      },
      "source": [
        "# Applying the model on entire training data\n",
        "model.fit(features, labels)\n",
        "# Viewing the most correlated words\n",
        "N = 5\n",
        "for Type, Category_id in sorted(category_to_id.items()):\n",
        "    # Sorting the indices\n",
        "    indices = np.argsort(model.coef_[Category_id])\n",
        "    # Converting indices into feature names\n",
        "    feature_names = np.array(tfidf.get_feature_names())[indices]\n",
        "    # List of single word features i.e. Unigrams\n",
        "    unigrams = [v for v in reversed(feature_names) if len(v.split(' ')) == 1][:N]\n",
        "    # List of double word features i.e. Bigrams\n",
        "    bigrams = [v for v in reversed(feature_names) if len(v.split(' ')) == 2][:N]\n",
        "\n",
        "    print(\"# '{}':\".format(Type))\n",
        "    print(\"  . Top unigrams:\\n       . {}\".format('\\n       . '.join(unigrams)))\n",
        "    print(\"  . Top bigrams:\\n       . {}\".format('\\n       . '.join(bigrams)))"
      ],
      "execution_count": 18,
      "outputs": [
        {
          "output_type": "stream",
          "text": [
            "# 'business':\n",
            "  . Top unigrams:\n",
            "       . firm\n",
            "       . compani\n",
            "       . bank\n",
            "       . market\n",
            "       . econom\n",
            "  . Top bigrams:\n",
            "       . chief execut\n",
            "       . analyst say\n",
            "       . last year\n",
            "       . stock market\n",
            "       . interest rate\n",
            "# 'entertainment':\n",
            "  . Top unigrams:\n",
            "       . film\n",
            "       . star\n",
            "       . music\n",
            "       . award\n",
            "       . singer\n",
            "  . Top bigrams:\n",
            "       . box offic\n",
            "       . lo angel\n",
            "       . number one\n",
            "       . tv show\n",
            "       . film mak\n",
            "# 'politics':\n",
            "  . Top unigrams:\n",
            "       . labour\n",
            "       . parti\n",
            "       . mr\n",
            "       . minist\n",
            "       . blair\n",
            "  . Top bigrams:\n",
            "       . mr blair\n",
            "       . toni blair\n",
            "       . prime minist\n",
            "       . mr brown\n",
            "       . lib dem\n",
            "# 'sport':\n",
            "  . Top unigrams:\n",
            "       . win\n",
            "       . match\n",
            "       . player\n",
            "       . champion\n",
            "       . game\n",
            "  . Top bigrams:\n",
            "       . six nation\n",
            "       . australian open\n",
            "       . grand slam\n",
            "       . world cup\n",
            "       . bbc sport\n",
            "# 'tech':\n",
            "  . Top unigrams:\n",
            "       . user\n",
            "       . comput\n",
            "       . use\n",
            "       . technolog\n",
            "       . softwar\n",
            "  . Top bigrams:\n",
            "       . mobil phone\n",
            "       . say mr\n",
            "       . bbc news\n",
            "       . let peopl\n",
            "       . news website\n"
          ],
          "name": "stdout"
        }
      ]
    },
    {
      "cell_type": "code",
      "metadata": {
        "id": "nDoXaGh5Kp75",
        "colab_type": "code",
        "colab": {
          "base_uri": "https://localhost:8080/",
          "height": 415
        },
        "outputId": "12b9ac35-2e71-4046-a92c-8ec94b67f270"
      },
      "source": [
        "# Applying the model to test data and predicting categories\n",
        "colslist = ['Index', 'News']\n",
        "df_test.columns = colslist\n",
        "ids = df_test.Index.tolist()\n",
        "texts = df_test.News.tolist()\n",
        "test_features = tfidf.transform(texts)\n",
        "prediction = model.predict(test_features)\n",
        "predictions = []\n",
        "for text, predicted in zip(texts, prediction):\n",
        "    predictions.append(id_to_category[predicted])\n",
        "\n",
        "data = {'Index': ids, 'Category': predictions}\n",
        "df_final = pd.DataFrame(data, columns = ['Index', 'Category'])\n",
        "df_final.to_csv('submission.csv', index=False, encoding='utf-8')\n",
        "df_final"
      ],
      "execution_count": 21,
      "outputs": [
        {
          "output_type": "execute_result",
          "data": {
            "text/html": [
              "<div>\n",
              "<style scoped>\n",
              "    .dataframe tbody tr th:only-of-type {\n",
              "        vertical-align: middle;\n",
              "    }\n",
              "\n",
              "    .dataframe tbody tr th {\n",
              "        vertical-align: top;\n",
              "    }\n",
              "\n",
              "    .dataframe thead th {\n",
              "        text-align: right;\n",
              "    }\n",
              "</style>\n",
              "<table border=\"1\" class=\"dataframe\">\n",
              "  <thead>\n",
              "    <tr style=\"text-align: right;\">\n",
              "      <th></th>\n",
              "      <th>Index</th>\n",
              "      <th>Category</th>\n",
              "    </tr>\n",
              "  </thead>\n",
              "  <tbody>\n",
              "    <tr>\n",
              "      <th>0</th>\n",
              "      <td>1018</td>\n",
              "      <td>sport</td>\n",
              "    </tr>\n",
              "    <tr>\n",
              "      <th>1</th>\n",
              "      <td>1319</td>\n",
              "      <td>tech</td>\n",
              "    </tr>\n",
              "    <tr>\n",
              "      <th>2</th>\n",
              "      <td>1138</td>\n",
              "      <td>sport</td>\n",
              "    </tr>\n",
              "    <tr>\n",
              "      <th>3</th>\n",
              "      <td>459</td>\n",
              "      <td>business</td>\n",
              "    </tr>\n",
              "    <tr>\n",
              "      <th>4</th>\n",
              "      <td>1020</td>\n",
              "      <td>sport</td>\n",
              "    </tr>\n",
              "    <tr>\n",
              "      <th>...</th>\n",
              "      <td>...</td>\n",
              "      <td>...</td>\n",
              "    </tr>\n",
              "    <tr>\n",
              "      <th>730</th>\n",
              "      <td>1923</td>\n",
              "      <td>business</td>\n",
              "    </tr>\n",
              "    <tr>\n",
              "      <th>731</th>\n",
              "      <td>373</td>\n",
              "      <td>entertainment</td>\n",
              "    </tr>\n",
              "    <tr>\n",
              "      <th>732</th>\n",
              "      <td>1704</td>\n",
              "      <td>sport</td>\n",
              "    </tr>\n",
              "    <tr>\n",
              "      <th>733</th>\n",
              "      <td>206</td>\n",
              "      <td>business</td>\n",
              "    </tr>\n",
              "    <tr>\n",
              "      <th>734</th>\n",
              "      <td>471</td>\n",
              "      <td>politics</td>\n",
              "    </tr>\n",
              "  </tbody>\n",
              "</table>\n",
              "<p>735 rows × 2 columns</p>\n",
              "</div>"
            ],
            "text/plain": [
              "     Index       Category\n",
              "0     1018          sport\n",
              "1     1319           tech\n",
              "2     1138          sport\n",
              "3      459       business\n",
              "4     1020          sport\n",
              "..     ...            ...\n",
              "730   1923       business\n",
              "731    373  entertainment\n",
              "732   1704          sport\n",
              "733    206       business\n",
              "734    471       politics\n",
              "\n",
              "[735 rows x 2 columns]"
            ]
          },
          "metadata": {
            "tags": []
          },
          "execution_count": 21
        }
      ]
    },
    {
      "cell_type": "code",
      "metadata": {
        "id": "ydbq81gDNYNh",
        "colab_type": "code",
        "colab": {}
      },
      "source": [
        ""
      ],
      "execution_count": 19,
      "outputs": []
    }
  ]
}